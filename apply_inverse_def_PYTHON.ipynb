{
 "cells": [
  {
   "cell_type": "code",
   "execution_count": 47,
   "id": "994af238-ce5b-47dc-84be-9903452064b6",
   "metadata": {
    "tags": []
   },
   "outputs": [
    {
     "name": "stdout",
     "output_type": "stream",
     "text": [
      "3\n",
      "3\n"
     ]
    },
    {
     "data": {
      "text/plain": [
       "(121, 145, 121)"
      ]
     },
     "execution_count": 47,
     "metadata": {},
     "output_type": "execute_result"
    }
   ],
   "source": [
    "\"\"\"\n",
    "\n",
    "This code applies a transformation given by a file labelled \"y_filename\" onto file \"filename\" with trilinear interpolation.\n",
    "I think this is resampling/normalization. The transformation from y_filename moves base coords to the template space, which I \n",
    "think is based off the montreal neurological institute (mni) system.\n",
    "\n",
    "Theo Chiang\n",
    "\n",
    "\"\"\"\n",
    "\n",
    "\n",
    "\n",
    "\n",
    "\n",
    "import os\n",
    "import nibabel as nib\n",
    "import numpy as np\n",
    "import SimpleITK as sitk\n",
    "import matlab.engine\n",
    "import math as math\n",
    "import matplotlib.pyplot as plt\n",
    "TINY = 5e-2\n",
    "\n",
    "def_path='/Users/theochiang/Documents/MATLAB/nifti_files/y_FLAIR<=T2_Flair_Axial_p2_5.nii';\n",
    "#Transformation Field\n",
    "\n",
    "\n",
    "img_path='/Users/theochiang/Documents/MATLAB/nifti_files/FLAIR<=T2_Flair_Axial_p2_5.nii';\n",
    "#base image\n",
    "\n",
    "\n",
    "\n",
    "\n",
    "#1 - SETUP\n",
    "#transformation data and affine\n",
    "trans_img = nib.load(def_path)\n",
    "trans_data = trans_img.get_fdata()\n",
    "trans_affine = trans_img.affine\n",
    "\n",
    "\n",
    "#base image data and affine\n",
    "base_img = nib.load(img_path)\n",
    "base_data = base_img.get_fdata()\n",
    "base_data = base_data.astype(np.float32)\n",
    "\n",
    "base_affine = base_img.affine\n",
    "\n",
    "base_data_sitk = sitk.GetImageFromArray(base_data)#(base_data.astype(np.float64), isVector=True)\n",
    "\n",
    "\n",
    "\n",
    "\n",
    "#2 - SOME ORGANIZATION\n",
    "#d variable = size/dims of previous variable\n",
    "trans_data_dims = trans_data.shape\n",
    "\n",
    "trans_data = trans_data.reshape((121, 145, 121, 3))\n",
    "trans_data = trans_data.astype(np.float32)\n",
    "\n",
    "#single precision for transformation field data (not affine)\n",
    "trans_data_sitk = sitk.GetImageFromArray(trans_data.astype(np.float32), isVector=True)\n",
    "\n",
    "print(base_data_sitk.GetDimension())\n",
    "print(trans_data_sitk.GetDimension())\n",
    "\n",
    "#sITK IMAGE CREATED FOR TRANSFORMATION FIELD IDK IF WE NEED IT?\n",
    "\n",
    "#AFFINE FUNCTION\n",
    "def affine(y, M):\n",
    "    \"\"\"\n",
    "    Perform affine transformation on the input data y using the transformation matrix M.\n",
    "    \n",
    "    Parameters:\n",
    "    y (numpy.ndarray): Input data, expected to be a 4D array where the last dimension has size 3.\n",
    "    M (numpy.ndarray): Transformation matrix, expected to be a 4x4 matrix.\n",
    "    \n",
    "    Returns:\n",
    "    numpy.ndarray: Transformed data, same shape as input data y.\n",
    "    \"\"\"\n",
    "    # Initialize the output array with zeros of the same shape as y and of type float32\n",
    "    Def = np.zeros(y.shape, dtype=np.float32)\n",
    "    \n",
    "    # Apply the affine transformation w/ matrix multiplication affine * transformation field\n",
    "    Def[..., 0] = y[..., 0] * M[0, 0] + y[..., 1] * M[0, 1] + y[..., 2] * M[0, 2] + M[0, 3] + 1\n",
    "    Def[..., 1] = y[..., 0] * M[1, 0] + y[..., 1] * M[1, 1] + y[..., 2] * M[1, 2] + M[1, 3] + 1\n",
    "    Def[..., 2] = y[..., 0] * M[2, 0] + y[..., 1] * M[2, 1] + y[..., 2] * M[2, 2] + M[2, 3] + 1\n",
    "    \n",
    "    return Def\n",
    "\n",
    "\n",
    "\n",
    "\n",
    "#3 - Matrix to get from physical to image?\n",
    "M = np.linalg.inv(base_img.affine)\n",
    "M = M.astype(np.float32)\n",
    "\n",
    "#Now Def is the matrix that converts any physical coords to warped/new image coords\n",
    "Y = affine(trans_data,M)\n",
    "\n",
    "\n",
    "#this is not really used:\n",
    "Y_sitk = sitk.GetImageFromArray(Y.astype(np.float32), isVector=True)\n",
    "Y_sitk.GetSize()\n",
    "\n",
    "\n"
   ]
  },
  {
   "cell_type": "code",
   "execution_count": 48,
   "id": "cb65d7ac-8855-4c9e-beba-9ec9dbd9c4f1",
   "metadata": {
    "tags": []
   },
   "outputs": [],
   "source": [
    "#4 - TRYING TO THE interpolation step (\"NONRIGID, RESAMPLING?\")\n",
    "\n",
    "\"\"\" \n",
    "print(Y_sitk.GetPixelIDTypeAsString())  # Check the pixel type\n",
    "print(Y_sitk.GetDimension())    #dimension Y\n",
    "print(Y_sitk.GetSize())         #Size Y\n",
    "print(base_data_sitk.GetSize()) #base image Y\n",
    "\"\"\"\n",
    "\n",
    "\n",
    "#mirror edges\n",
    "def mirror(i, m):\n",
    "    # i = coord, m is length of box\n",
    "    i = abs(i)\n",
    "    if i < m:\n",
    "        return i\n",
    "    if m == 1:\n",
    "        return 0\n",
    "    m2 = (m - 1) * 2\n",
    "    i %= m2\n",
    "    return i if i < m else m2 - i\n",
    "\n",
    "# SECOND FUNCTION FROM MATLAB\n",
    "#Accounting for the -1 input (in C++, input x[j]-1, y[j]-1, z[j]-1 for defxyz)\n",
    "def resample3python(f0, f0_dimx,f0_dimy,f0_dimz, def_field):\n",
    "    # Transformation field/deformation field x,y,z\n",
    "    x = def_field[0] - 1 \n",
    "    y = def_field[1] - 1\n",
    "    z = def_field[2] - 1\n",
    "    \n",
    "    if ((((x+1) >= 1 - TINY and (x+1) <= f0_dimx + TINY)) and\n",
    "            (((y+1) >= 1 - TINY and (y+1) <= f0_dimy + TINY)) and\n",
    "            (((z+1) >= 1 - TINY and (z+1) <= f0_dimz + TINY))):\n",
    "\n",
    "        # Weights\n",
    "        floored_x = math.floor(x)\n",
    "        floored_y = math.floor(y)\n",
    "        floored_z = math.floor(z)\n",
    "\n",
    "        weights_x = [(1-(x - floored_x)),(x - floored_x)]\n",
    "        weights_y = [(1-(y - floored_y)),(y - floored_y)]\n",
    "        weights_z = [(1-(z - floored_z)),(z - floored_z)]\n",
    "\n",
    "        # Edge control - mirroring def coords\n",
    "        # Process happens for coord and coord + 1 (so really def_fieldxyz-1,def_field)\n",
    "\n",
    "\n",
    "        transformation_xs = [mirror(floored_x, f0_dimx), mirror(floored_x + 1, f0_dimx)]\n",
    "        transformation_ys = [mirror(floored_y, f0_dimy), mirror(floored_y + 1, f0_dimy)]\n",
    "        transformation_zs = [mirror(floored_z, f0_dimz), mirror(floored_z + 1, f0_dimz)]\n",
    "\n",
    "        # Convolution\n",
    "\n",
    "        d2 = 0.0\n",
    "        for i2 in range(len(weights_z)):\n",
    "            d1 = 0.0\n",
    "            for i1 in range(len(weights_y)):\n",
    "                d0 = 0.0\n",
    "                for i0 in range(len(weights_x)):\n",
    "                    d0 += f0[transformation_xs[i0]][transformation_ys[i1]][transformation_zs[i2]] * weights_x[i0]\n",
    "                d1 += d0 * weights_y[i1]\n",
    "            d2 += d1 * weights_z[i2]\n",
    "        #for every Y vector value, the int part of x is the nth image in that dim in base image that correlates to new \n",
    "        #pixel being editted. decimal is the influence of that pixel vs the one just below. basically, the kernel is 2x2x2, \n",
    "        #and the transformation value specifies the weights, that add up to one between x and x-1.\n",
    "\n",
    "\n",
    "        return d2\n",
    "    else:\n",
    "        return np.nan\n",
    "\n",
    "\n",
    "\n",
    "#          CALLING THE FUNCTION:\n",
    "\n",
    "\n",
    "transformed_data = np.empty(trans_data.shape[:-1])\n",
    "#iterate through x,y,z of transformation/deformation field\n",
    "for t0 in range( trans_data.shape[0] ):\n",
    "    for t1 in range( trans_data.shape[1] ):\n",
    "        for t2 in range( trans_data.shape[2] ):\n",
    "            \n",
    "            transformed_data[t0][t1][t2] = resample3python(base_data,base_data.shape[0],base_data.shape[1],base_data.shape[2],Y[t0][t1][t2])\n",
    "           \n"
   ]
  },
  {
   "cell_type": "code",
   "execution_count": 49,
   "id": "8d310415-b3e6-4933-8347-9d41f189127f",
   "metadata": {
    "tags": []
   },
   "outputs": [
    {
     "name": "stdout",
     "output_type": "stream",
     "text": [
      "Transformed image saved to /Users/theochiang/Documents/MATLAB/nifti_files/8transformed_FLAIR<=T2_Flair_Axial_p2_5.nii\n"
     ]
    }
   ],
   "source": [
    "\n",
    "\n",
    "\n",
    "# 5- PROCESS OF CREATING NEW FILE\n",
    "resampled_image = nib.Nifti1Image(transformed_data, trans_img.affine)\n",
    "\n",
    "def check_if_file_exists(folder_path, filename):\n",
    "    file_path = os.path.join(folder_path, filename)\n",
    "    return os.path.exists(file_path)\n",
    "\n",
    "num = 0\n",
    "filename = 'nun'\n",
    "def checkFile():\n",
    "    global num, filename\n",
    "    #print(check_if_file_exists('/Users/theochiang/Documents/MATLAB/nifti_files',f\"{num}transformed_FLAIR<=T2_Flair_Axial_p2_5.nii\"))\n",
    "    if check_if_file_exists('/Users/theochiang/Documents/MATLAB/nifti_files',f\"{num}transformed_FLAIR<=T2_Flair_Axial_p2_5.nii\"):\n",
    "        #print(\"added one to \" + str(num))\n",
    "        num += 1\n",
    "        checkFile()\n",
    "    else:\n",
    "        filename = f\"{num}transformed_FLAIR<=T2_Flair_Axial_p2_5.nii\"\n",
    "checkFile()\n",
    "\n",
    "output_dir = '/Users/theochiang/Documents/MATLAB/nifti_files'\n",
    "output_path = os.path.join(output_dir,filename)\n",
    "\n",
    "nib.save(resampled_image,output_path)\n",
    "\n",
    "print(f\"Transformed image saved to {output_path}\")"
   ]
  },
  {
   "cell_type": "code",
   "execution_count": null,
   "id": "ab5d5bd5-0335-4c1a-99b6-0934b81d108d",
   "metadata": {},
   "outputs": [],
   "source": []
  },
  {
   "cell_type": "code",
   "execution_count": 44,
   "id": "d2b04add-7f20-40ed-af23-9e940968434f",
   "metadata": {},
   "outputs": [
    {
     "name": "stdout",
     "output_type": "stream",
     "text": [
      "(28, 256, 232)\n",
      "(3, 121, 145, 121)\n",
      "(121, 145, 121)\n"
     ]
    }
   ],
   "source": [
    "base_data_sitk = sitk.GetImageFromArray(base_data,isVector=False)\n",
    "trans_data_sitk = sitk.GetImageFromArray(trans_data, isVector=False)\n",
    "transformed_data_sitk = sitk.GetImageFromArray(transformed_data,isVector=False)\n",
    "\n",
    "print(base_data_sitk.GetSize())\n",
    "print(trans_data_sitk.GetSize())\n",
    "print(transformed_data_sitk.GetSize())"
   ]
  },
  {
   "cell_type": "code",
   "execution_count": 45,
   "id": "1d0b6217-d2ae-47d4-acdc-06bfc263a83d",
   "metadata": {
    "tags": []
   },
   "outputs": [
    {
     "name": "stdout",
     "output_type": "stream",
     "text": [
      "(256, 232)\n",
      "(121, 145, 121)\n",
      "(145, 121)\n"
     ]
    }
   ],
   "source": [
    "base_data_sitk = sitk.GetImageFromArray(base_data.astype(np.float32), isVector=True)\n",
    "trans_data_sitk = sitk.GetImageFromArray(trans_data.astype(np.float32), isVector=True)\n",
    "transformed_data_sitk = sitk.GetImageFromArray(transformed_data.astype(np.float32), isVector=True)\n",
    "\n",
    "print(base_data_sitk.GetSize())\n",
    "print(trans_data_sitk.GetSize())\n",
    "print(transformed_data_sitk.GetSize())"
   ]
  },
  {
   "cell_type": "code",
   "execution_count": 46,
   "id": "d801a483-e274-461e-adae-328a4e128dfe",
   "metadata": {
    "tags": []
   },
   "outputs": [
    {
     "name": "stdout",
     "output_type": "stream",
     "text": [
      "(232, 256, 28)\n",
      "(121, 145, 121, 3)\n",
      "(121, 145, 121)\n"
     ]
    }
   ],
   "source": [
    "print(base_data.shape)\n",
    "print(trans_data.shape)\n",
    "print(transformed_data.shape)"
   ]
  },
  {
   "cell_type": "code",
   "execution_count": null,
   "id": "df5feebb-9377-46b7-9d17-4d341d34238e",
   "metadata": {},
   "outputs": [],
   "source": []
  },
  {
   "cell_type": "code",
   "execution_count": null,
   "id": "760d7706-7fd6-4a79-a712-1ba175ccb05d",
   "metadata": {},
   "outputs": [],
   "source": []
  },
  {
   "cell_type": "code",
   "execution_count": null,
   "id": "fdbad54a-c9e9-441d-a7ff-4bcd1bce7dad",
   "metadata": {},
   "outputs": [],
   "source": []
  },
  {
   "cell_type": "code",
   "execution_count": null,
   "id": "aac61c4c-2663-4511-9b1a-04ef3572cfaa",
   "metadata": {},
   "outputs": [],
   "source": []
  }
 ],
 "metadata": {
  "kernelspec": {
   "display_name": "Python 3 (ipykernel)",
   "language": "python",
   "name": "python3"
  },
  "language_info": {
   "codemirror_mode": {
    "name": "ipython",
    "version": 3
   },
   "file_extension": ".py",
   "mimetype": "text/x-python",
   "name": "python",
   "nbconvert_exporter": "python",
   "pygments_lexer": "ipython3",
   "version": "3.11.5"
  }
 },
 "nbformat": 4,
 "nbformat_minor": 5
}
